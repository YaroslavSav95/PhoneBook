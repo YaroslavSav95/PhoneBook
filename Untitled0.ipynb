{
  "nbformat": 4,
  "nbformat_minor": 0,
  "metadata": {
    "colab": {
      "provenance": [],
      "toc_visible": true,
      "authorship_tag": "ABX9TyP6k6DCPQnMu3Nr3lcS/iED",
      "include_colab_link": true
    },
    "kernelspec": {
      "name": "python3",
      "display_name": "Python 3"
    },
    "language_info": {
      "name": "python"
    }
  },
  "cells": [
    {
      "cell_type": "markdown",
      "metadata": {
        "id": "view-in-github",
        "colab_type": "text"
      },
      "source": [
        "<a href=\"https://colab.research.google.com/github/YaroslavSav95/PhoneBook/blob/main/Untitled0.ipynb\" target=\"_parent\"><img src=\"https://colab.research.google.com/assets/colab-badge.svg\" alt=\"Open In Colab\"/></a>"
      ]
    },
    {
      "cell_type": "code",
      "execution_count": null,
      "metadata": {
        "id": "QinvD-OWURAh"
      },
      "outputs": [],
      "source": [
        "def add_surname(d):\n",
        "\n",
        "    with open ('telefon_book.bd', 'a') as file:\n",
        "        file.write('surname: {}\\n'\n",
        "        \n",
        "    .format (d))\n",
        "\n",
        "def add_name(d):\n",
        "\n",
        "    with open ('telefon_book.bd', 'a') as file:\n",
        "        file.write('name: {}\\n'\n",
        " .format (d))\n",
        "\n",
        "def add_number (d):\n",
        "\n",
        "from tabulate import tabulate1\n",
        "\n",
        "prinr = [\"Surname\", \"Name\", \"Phone_number\", \"Discription\"]\n",
        "\n",
        "\n",
        "def add_data(d):\n",
        "    with open ('telefon_book.bd', 'a') as file:\n",
        "        file.write('phone_number: {}\\n'\n",
        " .format (d))\n",
        "def add_description(d):\n",
        "    \n",
        "        file.write (tabulate(d, headers ='head', tablefmt=\"grid\"·))\n",
        "\n",
        "\n",
        "    with open ('telefon_book.bd', 'a') as file:\n",
        "        file.write('discripion: {}\\n'.format (d))"
      ]
    },
    {
      "cell_type": "code",
      "source": [
        "from this import d\n",
        "import telef\n",
        "import dobavl_pol as book \n",
        "\n",
        "def surname_view():\n",
        "    d = telef.get_surname()\n",
        "    book.add_surname(d)\n",
        "def telef_view():\n",
        "    d0,d1,d2,d3,d4  = telef.get_telef(),telef.get_telef(),telef.get_telef()\\\n",
        "        ,telef.get_telef()\n",
        "    d = d0,d1,d2,d3,d4\n",
        "    book.add_telef(d)\n",
        "    return d\n",
        "def name_view():\n",
        "    d = telef.get_name()\n",
        "    book.add_name(d)\n",
        "    return d\n",
        "def number_view():\n",
        "    d = telef.get_number()\n",
        "    book.add_number(d)\n",
        "    return d\n",
        "def discription_view():\n",
        "    d = telef.get_description()\n",
        "    book.add_description(d)\n",
        "    return d"
      ],
      "metadata": {
        "id": "ME-xswjRIHpR"
      },
      "execution_count": null,
      "outputs": []
    },
    {
      "cell_type": "code",
      "source": [
        "import re\n",
        "from tokenize import Number\n",
        "\n",
        "\n",
        "def get_surname():\n",
        "    surname = input('фамилия:')\n",
        "    return surname\n",
        "\n",
        "def get_data():\n",
        "    surname = input('Surname:')\n",
        "    name = input('Name:')\n",
        "    number = input('Number_telefon:')\n",
        "    description = input('Description:') == [surname, name, number, description] \n",
        "    return list\n",
        "\n",
        "def get_name():\n",
        "    name = input('Имя:')\n",
        "    return name\n",
        "\n",
        "def get_number():\n",
        "    number = input('№ телефона:')\n",
        "    return number\n",
        "\n",
        "def get_description():\n",
        "    description = input('Описвние')\n",
        "    return description\n",
        "\n",
        "def data_coliection():\n",
        "    return (get_surname(),get_data(), get_name(), get_number(),get_description()) "
      ],
      "metadata": {
        "id": "koIb0oGmIIaA"
      },
      "execution_count": null,
      "outputs": []
    }
  ]
}